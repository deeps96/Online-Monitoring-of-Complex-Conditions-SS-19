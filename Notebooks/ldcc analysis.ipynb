{
 "cells": [
  {
   "cell_type": "markdown",
   "metadata": {},
   "source": [
    "# Data Analysis"
   ]
  },
  {
   "cell_type": "code",
   "execution_count": 1,
   "metadata": {},
   "outputs": [],
   "source": [
    "import os\n",
    "import pandas as pd\n",
    "import seaborn as sns\n",
    "import numpy as np\n",
    "from pymongo import MongoClient\n",
    "import matplotlib as plt"
   ]
  },
  {
   "cell_type": "code",
   "execution_count": 2,
   "metadata": {},
   "outputs": [],
   "source": [
    "plt.rcParams.update({'font.size': 24})"
   ]
  },
  {
   "cell_type": "code",
   "execution_count": 3,
   "metadata": {},
   "outputs": [],
   "source": [
    "def parseEvent(line):\n",
    "    values = line.split(', ')\n",
    "    if(len(values) == 0):\n",
    "        print('Skipping empty row.')\n",
    "        return None\n",
    "    event = { 'type': values.pop(0) }\n",
    "    for value in values:\n",
    "        keyValue = value.split(' = ')\n",
    "        event[keyValue[0]] = keyValue[1].rstrip(\"\\n\\r\")\n",
    "    return event"
   ]
  },
  {
   "cell_type": "code",
   "execution_count": null,
   "metadata": {},
   "outputs": [],
   "source": [
    "largeCSVFilePath = os.path.join('/', 'Users', 'deeps', 'Downloads', 'ldcc', 'ldcc.csv')\n",
    "csvFile = open(largeCSVFilePath, 'r')\n",
    "chunkSize = 1_000_000\n",
    "\n",
    "client = MongoClient()\n",
    "db = client.omocc\n",
    "eventsCollection = db.events\n",
    "\n",
    "events = []\n",
    "lineNumber = 0\n",
    "for line in csvFile:\n",
    "    event = parseEvent(line)\n",
    "    if (event is None):\n",
    "        continue\n",
    "    events.append(event)\n",
    "    lineNumber += 1\n",
    "    if (lineNumber % chunkSize == 0):\n",
    "        print('Saving...')\n",
    "        eventsCollection.insert_many(events)\n",
    "        events = []\n",
    "        print('Saved. Progress ' + str(lineNumber))\n",
    "if len(events) > 0:\n",
    "    eventsCollection.insert_many(events)\n",
    "csvFile.close()\n",
    "client.close()\n",
    "print('Number of events processed: ' + str(lineNumber))"
   ]
  },
  {
   "cell_type": "code",
   "execution_count": 4,
   "metadata": {},
   "outputs": [],
   "source": [
    "client = MongoClient()\n",
    "db = client.omocc\n",
    "cursor = db.events.aggregate([{\n",
    "    '$group' : {\n",
    "        '_id': '$type', \n",
    "        'count': {\n",
    "            '$sum': 1 \n",
    "        }\n",
    "    }\n",
    "}])\n",
    "eventTypeCount = pd.DataFrame(list(cursor))\n",
    "client.close()"
   ]
  },
  {
   "cell_type": "code",
   "execution_count": 5,
   "metadata": {},
   "outputs": [
    {
     "data": {
      "text/html": [
       "<div>\n",
       "<style scoped>\n",
       "    .dataframe tbody tr th:only-of-type {\n",
       "        vertical-align: middle;\n",
       "    }\n",
       "\n",
       "    .dataframe tbody tr th {\n",
       "        vertical-align: top;\n",
       "    }\n",
       "\n",
       "    .dataframe thead th {\n",
       "        text-align: right;\n",
       "    }\n",
       "</style>\n",
       "<table border=\"1\" class=\"dataframe\">\n",
       "  <thead>\n",
       "    <tr style=\"text-align: right;\">\n",
       "      <th></th>\n",
       "      <th>count</th>\n",
       "    </tr>\n",
       "    <tr>\n",
       "      <th>_id</th>\n",
       "      <th></th>\n",
       "    </tr>\n",
       "  </thead>\n",
       "  <tbody>\n",
       "    <tr>\n",
       "      <th>insert</th>\n",
       "      <td>214832474</td>\n",
       "    </tr>\n",
       "    <tr>\n",
       "      <th>select</th>\n",
       "      <td>3179231</td>\n",
       "    </tr>\n",
       "    <tr>\n",
       "      <th>update</th>\n",
       "      <td>698783</td>\n",
       "    </tr>\n",
       "    <tr>\n",
       "      <th>delete</th>\n",
       "      <td>945</td>\n",
       "    </tr>\n",
       "    <tr>\n",
       "      <th>script_end</th>\n",
       "      <td>769</td>\n",
       "    </tr>\n",
       "    <tr>\n",
       "      <th>script_start</th>\n",
       "      <td>769</td>\n",
       "    </tr>\n",
       "    <tr>\n",
       "      <th>script_md5</th>\n",
       "      <td>666</td>\n",
       "    </tr>\n",
       "    <tr>\n",
       "      <th>commit</th>\n",
       "      <td>550</td>\n",
       "    </tr>\n",
       "    <tr>\n",
       "      <th>script_svn</th>\n",
       "      <td>444</td>\n",
       "    </tr>\n",
       "  </tbody>\n",
       "</table>\n",
       "</div>"
      ],
      "text/plain": [
       "                  count\n",
       "_id                    \n",
       "insert        214832474\n",
       "select          3179231\n",
       "update           698783\n",
       "delete              945\n",
       "script_end          769\n",
       "script_start        769\n",
       "script_md5          666\n",
       "commit              550\n",
       "script_svn          444"
      ]
     },
     "execution_count": 5,
     "metadata": {},
     "output_type": "execute_result"
    }
   ],
   "source": [
    "eventTypeCount.set_index('_id', inplace=True, drop=True)\n",
    "eventTypeCount.sort_values('count', ascending=False, inplace=True)\n",
    "eventTypeCount"
   ]
  },
  {
   "cell_type": "code",
   "execution_count": 6,
   "metadata": {},
   "outputs": [],
   "source": [
    "def labelBars(plot):\n",
    "    for p in plot.patches:\n",
    "        plot.annotate(\n",
    "            np.round(p.get_height(), decimals=2),\n",
    "            (\n",
    "                p.get_x() + p.get_width() / 2.,\n",
    "                p.get_height()\n",
    "            ),\n",
    "            ha='center',\n",
    "            va='center',\n",
    "            xytext=(0, 10),\n",
    "            textcoords='offset points'\n",
    "     )"
   ]
  },
  {
   "cell_type": "code",
   "execution_count": 7,
   "metadata": {},
   "outputs": [
    {
     "data": {
      "image/png": "[encoded data removed]",
      "text/plain": [
       "<Figure size 1440x720 with 1 Axes>"
      ]
     },
     "metadata": {
      "needs_background": "light"
     },
     "output_type": "display_data"
    }
   ],
   "source": [
    "totalRows = eventTypeCount['count'].sum()\n",
    "eventTypePlot = eventTypeCount.plot(\n",
    "    kind='bar',\n",
    "    figsize=(20, 10)\n",
    ")\n",
    "eventTypePlot.set(\n",
    "    xlabel='event types',\n",
    "    ylabel='event count',\n",
    "    title='Number of events per type'\n",
    ")\n",
    "labelBars(eventTypePlot)"
   ]
  },
  {
   "cell_type": "code",
   "execution_count": 117,
   "metadata": {},
   "outputs": [],
   "source": [
    "def getExampleForType(eventType, eventsCollection):\n",
    "    return eventsCollection.find_one({\n",
    "        'type': eventType\n",
    "    })\n",
    "\n",
    "client = MongoClient()\n",
    "db = client.omocc\n",
    "eventsCollection = db.events\n",
    "eventExamples = eventTypeCount.index.map(lambda eventType: getExampleForType(eventType, eventsCollection))\n",
    "client.close()\n",
    "eventExamples = pd.DataFrame(list(eventExamples.flatten()))\n",
    "eventExamples.drop(['_id'], axis='columns', inplace=True)\n",
    "eventExamples.set_index('type', inplace=True, drop=True)"
   ]
  },
  {
   "cell_type": "code",
   "execution_count": 142,
   "metadata": {},
   "outputs": [
    {
     "data": {
      "text/html": [
       "<div>\n",
       "<style scoped>\n",
       "    .dataframe tbody tr th:only-of-type {\n",
       "        vertical-align: middle;\n",
       "    }\n",
       "\n",
       "    .dataframe tbody tr th {\n",
       "        vertical-align: top;\n",
       "    }\n",
       "\n",
       "    .dataframe thead th {\n",
       "        text-align: right;\n",
       "    }\n",
       "</style>\n",
       "<table border=\"1\" class=\"dataframe\">\n",
       "  <thead>\n",
       "    <tr style=\"text-align: right;\">\n",
       "      <th></th>\n",
       "      <th>d</th>\n",
       "      <th>db</th>\n",
       "      <th>md5</th>\n",
       "      <th>p</th>\n",
       "      <th>rev</th>\n",
       "      <th>rev1</th>\n",
       "      <th>rev2</th>\n",
       "      <th>s</th>\n",
       "      <th>status</th>\n",
       "      <th>tp</th>\n",
       "      <th>ts</th>\n",
       "      <th>u</th>\n",
       "      <th>url</th>\n",
       "    </tr>\n",
       "    <tr>\n",
       "      <th>type</th>\n",
       "      <th></th>\n",
       "      <th></th>\n",
       "      <th></th>\n",
       "      <th></th>\n",
       "      <th></th>\n",
       "      <th></th>\n",
       "      <th></th>\n",
       "      <th></th>\n",
       "      <th></th>\n",
       "      <th></th>\n",
       "      <th></th>\n",
       "      <th></th>\n",
       "      <th></th>\n",
       "    </tr>\n",
       "  </thead>\n",
       "  <tbody>\n",
       "    <tr>\n",
       "      <th>insert</th>\n",
       "      <td>112151559\\n</td>\n",
       "      <td>db1</td>\n",
       "      <td>NaN</td>\n",
       "      <td>[unknown]</td>\n",
       "      <td>NaN</td>\n",
       "      <td>NaN</td>\n",
       "      <td>NaN</td>\n",
       "      <td>NaN</td>\n",
       "      <td>NaN</td>\n",
       "      <td>30</td>\n",
       "      <td>1275324590</td>\n",
       "      <td>[unknown]</td>\n",
       "      <td>NaN</td>\n",
       "    </tr>\n",
       "    <tr>\n",
       "      <th>select</th>\n",
       "      <td>[unknown]\\n</td>\n",
       "      <td>db3</td>\n",
       "      <td>NaN</td>\n",
       "      <td>[unknown]</td>\n",
       "      <td>NaN</td>\n",
       "      <td>NaN</td>\n",
       "      <td>NaN</td>\n",
       "      <td>NaN</td>\n",
       "      <td>NaN</td>\n",
       "      <td>65</td>\n",
       "      <td>1277196513</td>\n",
       "      <td>user1</td>\n",
       "      <td>NaN</td>\n",
       "    </tr>\n",
       "    <tr>\n",
       "      <th>update</th>\n",
       "      <td>[unknown]\\n</td>\n",
       "      <td>db2</td>\n",
       "      <td>NaN</td>\n",
       "      <td>[unknown]</td>\n",
       "      <td>NaN</td>\n",
       "      <td>NaN</td>\n",
       "      <td>NaN</td>\n",
       "      <td>NaN</td>\n",
       "      <td>NaN</td>\n",
       "      <td>16307</td>\n",
       "      <td>1277216945</td>\n",
       "      <td>script</td>\n",
       "      <td>NaN</td>\n",
       "    </tr>\n",
       "    <tr>\n",
       "      <th>delete</th>\n",
       "      <td>[unknown]\\n</td>\n",
       "      <td>db3</td>\n",
       "      <td>NaN</td>\n",
       "      <td>[unknown]</td>\n",
       "      <td>NaN</td>\n",
       "      <td>NaN</td>\n",
       "      <td>NaN</td>\n",
       "      <td>NaN</td>\n",
       "      <td>NaN</td>\n",
       "      <td>82980</td>\n",
       "      <td>1277728781</td>\n",
       "      <td>user7</td>\n",
       "      <td>NaN</td>\n",
       "    </tr>\n",
       "    <tr>\n",
       "      <th>script_start</th>\n",
       "      <td>NaN</td>\n",
       "      <td>NaN</td>\n",
       "      <td>NaN</td>\n",
       "      <td>NaN</td>\n",
       "      <td>NaN</td>\n",
       "      <td>NaN</td>\n",
       "      <td>NaN</td>\n",
       "      <td>script1\\n</td>\n",
       "      <td>NaN</td>\n",
       "      <td>346</td>\n",
       "      <td>1277200697</td>\n",
       "      <td>NaN</td>\n",
       "      <td>NaN</td>\n",
       "    </tr>\n",
       "    <tr>\n",
       "      <th>script_end</th>\n",
       "      <td>NaN</td>\n",
       "      <td>NaN</td>\n",
       "      <td>NaN</td>\n",
       "      <td>NaN</td>\n",
       "      <td>NaN</td>\n",
       "      <td>NaN</td>\n",
       "      <td>NaN</td>\n",
       "      <td>script1\\n</td>\n",
       "      <td>NaN</td>\n",
       "      <td>31179</td>\n",
       "      <td>1277232759</td>\n",
       "      <td>NaN</td>\n",
       "      <td>NaN</td>\n",
       "    </tr>\n",
       "    <tr>\n",
       "      <th>script_md5</th>\n",
       "      <td>NaN</td>\n",
       "      <td>NaN</td>\n",
       "      <td>ac6d06f21af087dcc171a82738b3af42\\n</td>\n",
       "      <td>NaN</td>\n",
       "      <td>NaN</td>\n",
       "      <td>NaN</td>\n",
       "      <td>NaN</td>\n",
       "      <td>script1</td>\n",
       "      <td>NaN</td>\n",
       "      <td>1844086</td>\n",
       "      <td>1290211214</td>\n",
       "      <td>NaN</td>\n",
       "      <td>NaN</td>\n",
       "    </tr>\n",
       "    <tr>\n",
       "      <th>commit</th>\n",
       "      <td>NaN</td>\n",
       "      <td>NaN</td>\n",
       "      <td>NaN</td>\n",
       "      <td>NaN</td>\n",
       "      <td>1\\n</td>\n",
       "      <td>NaN</td>\n",
       "      <td>NaN</td>\n",
       "      <td>NaN</td>\n",
       "      <td>NaN</td>\n",
       "      <td>0</td>\n",
       "      <td>1272882926</td>\n",
       "      <td>NaN</td>\n",
       "      <td>url1</td>\n",
       "    </tr>\n",
       "    <tr>\n",
       "      <th>script_svn</th>\n",
       "      <td>NaN</td>\n",
       "      <td>NaN</td>\n",
       "      <td>NaN</td>\n",
       "      <td>NaN</td>\n",
       "      <td>NaN</td>\n",
       "      <td>224</td>\n",
       "      <td>224\\n</td>\n",
       "      <td>script12</td>\n",
       "      <td>svn-latest</td>\n",
       "      <td>1844085</td>\n",
       "      <td>1290211209</td>\n",
       "      <td>NaN</td>\n",
       "      <td>url171</td>\n",
       "    </tr>\n",
       "  </tbody>\n",
       "</table>\n",
       "</div>"
      ],
      "text/plain": [
       "                        d   db                                 md5          p  \\\n",
       "type                                                                            \n",
       "insert        112151559\\n  db1                                 NaN  [unknown]   \n",
       "select        [unknown]\\n  db3                                 NaN  [unknown]   \n",
       "update        [unknown]\\n  db2                                 NaN  [unknown]   \n",
       "delete        [unknown]\\n  db3                                 NaN  [unknown]   \n",
       "script_start          NaN  NaN                                 NaN        NaN   \n",
       "script_end            NaN  NaN                                 NaN        NaN   \n",
       "script_md5            NaN  NaN  ac6d06f21af087dcc171a82738b3af42\\n        NaN   \n",
       "commit                NaN  NaN                                 NaN        NaN   \n",
       "script_svn            NaN  NaN                                 NaN        NaN   \n",
       "\n",
       "              rev rev1   rev2          s      status       tp          ts  \\\n",
       "type                                                                        \n",
       "insert        NaN  NaN    NaN        NaN         NaN       30  1275324590   \n",
       "select        NaN  NaN    NaN        NaN         NaN       65  1277196513   \n",
       "update        NaN  NaN    NaN        NaN         NaN    16307  1277216945   \n",
       "delete        NaN  NaN    NaN        NaN         NaN    82980  1277728781   \n",
       "script_start  NaN  NaN    NaN  script1\\n         NaN      346  1277200697   \n",
       "script_end    NaN  NaN    NaN  script1\\n         NaN    31179  1277232759   \n",
       "script_md5    NaN  NaN    NaN    script1         NaN  1844086  1290211214   \n",
       "commit        1\\n  NaN    NaN        NaN         NaN        0  1272882926   \n",
       "script_svn    NaN  224  224\\n   script12  svn-latest  1844085  1290211209   \n",
       "\n",
       "                      u     url  \n",
       "type                             \n",
       "insert        [unknown]     NaN  \n",
       "select            user1     NaN  \n",
       "update           script     NaN  \n",
       "delete            user7     NaN  \n",
       "script_start        NaN     NaN  \n",
       "script_end          NaN     NaN  \n",
       "script_md5          NaN     NaN  \n",
       "commit              NaN    url1  \n",
       "script_svn          NaN  url171  "
      ]
     },
     "execution_count": 142,
     "metadata": {},
     "output_type": "execute_result"
    }
   ],
   "source": [
    "eventExamples"
   ]
  },
  {
   "cell_type": "code",
   "execution_count": 153,
   "metadata": {},
   "outputs": [],
   "source": [
    "client = MongoClient()\n",
    "db = client.omocc\n",
    "cursor = db.events.aggregate([{\n",
    "    '$group' : {\n",
    "        '_id': '$db', \n",
    "        'count': {\n",
    "            '$sum': 1 \n",
    "        }\n",
    "    }\n",
    "}])\n",
    "dbValues = pd.DataFrame(list(cursor))\n",
    "client.close()\n",
    "dbValues.sort_values('count', ascending=False, inplace=True)"
   ]
  },
  {
   "cell_type": "code",
   "execution_count": 159,
   "metadata": {},
   "outputs": [
    {
     "data": {
      "text/html": [
       "<div>\n",
       "<style scoped>\n",
       "    .dataframe tbody tr th:only-of-type {\n",
       "        vertical-align: middle;\n",
       "    }\n",
       "\n",
       "    .dataframe tbody tr th {\n",
       "        vertical-align: top;\n",
       "    }\n",
       "\n",
       "    .dataframe thead th {\n",
       "        text-align: right;\n",
       "    }\n",
       "</style>\n",
       "<table border=\"1\" class=\"dataframe\">\n",
       "  <thead>\n",
       "    <tr style=\"text-align: right;\">\n",
       "      <th></th>\n",
       "      <th>_id</th>\n",
       "      <th>count</th>\n",
       "    </tr>\n",
       "  </thead>\n",
       "  <tbody>\n",
       "    <tr>\n",
       "      <th>1</th>\n",
       "      <td>db3</td>\n",
       "      <td>110800024</td>\n",
       "    </tr>\n",
       "    <tr>\n",
       "      <th>0</th>\n",
       "      <td>db2</td>\n",
       "      <td>107549456</td>\n",
       "    </tr>\n",
       "    <tr>\n",
       "      <th>2</th>\n",
       "      <td>db1</td>\n",
       "      <td>361953</td>\n",
       "    </tr>\n",
       "    <tr>\n",
       "      <th>3</th>\n",
       "      <td>None</td>\n",
       "      <td>3198</td>\n",
       "    </tr>\n",
       "  </tbody>\n",
       "</table>\n",
       "</div>"
      ],
      "text/plain": [
       "    _id      count\n",
       "1   db3  110800024\n",
       "0   db2  107549456\n",
       "2   db1     361953\n",
       "3  None       3198"
      ]
     },
     "execution_count": 159,
     "metadata": {},
     "output_type": "execute_result"
    }
   ],
   "source": [
    "dbValues"
   ]
  },
  {
   "cell_type": "code",
   "execution_count": 165,
   "metadata": {},
   "outputs": [],
   "source": [
    "client = MongoClient()\n",
    "db = client.omocc\n",
    "cursor = db.events.aggregate([{\n",
    "    '$group' : {\n",
    "        '_id': { \n",
    "            '$trim': { \n",
    "                'input': '$p'\n",
    "            }\n",
    "        },\n",
    "        'count': {\n",
    "            '$sum': 1 \n",
    "        }\n",
    "    }\n",
    "}])\n",
    "pValues = pd.DataFrame(list(cursor))\n",
    "client.close()\n",
    "pValues.sort_values('count', ascending=False, inplace=True)"
   ]
  },
  {
   "cell_type": "code",
   "execution_count": 166,
   "metadata": {},
   "outputs": [
    {
     "data": {
      "text/plain": [
       "215"
      ]
     },
     "execution_count": 166,
     "metadata": {},
     "output_type": "execute_result"
    }
   ],
   "source": [
    "pValues.shape[0]"
   ]
  },
  {
   "cell_type": "code",
   "execution_count": 167,
   "metadata": {},
   "outputs": [
    {
     "data": {
      "text/html": [
       "<div>\n",
       "<style scoped>\n",
       "    .dataframe tbody tr th:only-of-type {\n",
       "        vertical-align: middle;\n",
       "    }\n",
       "\n",
       "    .dataframe tbody tr th {\n",
       "        vertical-align: top;\n",
       "    }\n",
       "\n",
       "    .dataframe thead th {\n",
       "        text-align: right;\n",
       "    }\n",
       "</style>\n",
       "<table border=\"1\" class=\"dataframe\">\n",
       "  <thead>\n",
       "    <tr style=\"text-align: right;\">\n",
       "      <th></th>\n",
       "      <th>_id</th>\n",
       "      <th>count</th>\n",
       "    </tr>\n",
       "  </thead>\n",
       "  <tbody>\n",
       "    <tr>\n",
       "      <th>168</th>\n",
       "      <td>[unknown]</td>\n",
       "      <td>4230019</td>\n",
       "    </tr>\n",
       "    <tr>\n",
       "      <th>195</th>\n",
       "      <td>16</td>\n",
       "      <td>3720885</td>\n",
       "    </tr>\n",
       "    <tr>\n",
       "      <th>200</th>\n",
       "      <td>13</td>\n",
       "      <td>3257000</td>\n",
       "    </tr>\n",
       "    <tr>\n",
       "      <th>135</th>\n",
       "      <td>46</td>\n",
       "      <td>3236605</td>\n",
       "    </tr>\n",
       "    <tr>\n",
       "      <th>86</th>\n",
       "      <td>49</td>\n",
       "      <td>3162155</td>\n",
       "    </tr>\n",
       "  </tbody>\n",
       "</table>\n",
       "</div>"
      ],
      "text/plain": [
       "           _id    count\n",
       "168  [unknown]  4230019\n",
       "195         16  3720885\n",
       "200         13  3257000\n",
       "135         46  3236605\n",
       "86          49  3162155"
      ]
     },
     "execution_count": 167,
     "metadata": {},
     "output_type": "execute_result"
    }
   ],
   "source": [
    "pValues.head()"
   ]
  },
  {
   "cell_type": "code",
   "execution_count": 3,
   "metadata": {},
   "outputs": [],
   "source": [
    "client = MongoClient()\n",
    "db = client.omocc\n",
    "cursor = db.events.aggregate([{\n",
    "    '$group' : {\n",
    "        '_id': { \n",
    "            '$trim': { \n",
    "                'input': '$u'\n",
    "            }\n",
    "        },\n",
    "        'count': {\n",
    "            '$sum': 1 \n",
    "        }\n",
    "    }\n",
    "}])\n",
    "uValues = pd.DataFrame(list(cursor))\n",
    "client.close()\n",
    "uValues.sort_values('count', ascending=False, inplace=True)"
   ]
  },
  {
   "cell_type": "code",
   "execution_count": 169,
   "metadata": {},
   "outputs": [
    {
     "data": {
      "text/plain": [
       "62"
      ]
     },
     "execution_count": 169,
     "metadata": {},
     "output_type": "execute_result"
    }
   ],
   "source": [
    "uValues.shape[0]"
   ]
  },
  {
   "cell_type": "code",
   "execution_count": 5,
   "metadata": {},
   "outputs": [
    {
     "data": {
      "text/plain": [
       "array(['script', 'triggers', 'user34', 'user53', '[unknown]', 'user4',\n",
       "       'user1', 'user2', 'user44', 'user14', 'user9', 'user52', 'user19',\n",
       "       'user8', 'user48', 'user32', 'user11', 'user22', None, 'user55',\n",
       "       'user49', 'user21', 'user12', 'user16', 'user47', 'user5',\n",
       "       'user50', 'user36', 'user13', 'user25', 'user6', 'user37',\n",
       "       'user31', 'user30', 'user29', 'user42', 'user45', 'user54',\n",
       "       'user43', 'user15', 'user58', 'user28', 'user39', 'user33',\n",
       "       'user46', 'user7', 'user27', 'user51', 'user35', 'user41',\n",
       "       'user23', 'user40', 'user38', 'user18', 'user26', 'user20',\n",
       "       'user24', 'user56', 'user3', 'user10', 'user57', 'user17'],\n",
       "      dtype=object)"
      ]
     },
     "execution_count": 5,
     "metadata": {},
     "output_type": "execute_result"
    }
   ],
   "source": [
    "uValues['_id'].values"
   ]
  },
  {
   "cell_type": "code",
   "execution_count": 171,
   "metadata": {},
   "outputs": [],
   "source": [
    "client = MongoClient()\n",
    "db = client.omocc\n",
    "cursor = db.events.aggregate([{\n",
    "    '$group' : {\n",
    "        '_id': { \n",
    "            '$trim': { \n",
    "                'input': '$s'\n",
    "            }\n",
    "        },\n",
    "        'count': {\n",
    "            '$sum': 1 \n",
    "        }\n",
    "    }\n",
    "}])\n",
    "sValues = pd.DataFrame(list(cursor))\n",
    "client.close()\n",
    "sValues.sort_values('count', ascending=False, inplace=True)"
   ]
  },
  {
   "cell_type": "code",
   "execution_count": 172,
   "metadata": {},
   "outputs": [
    {
     "data": {
      "text/plain": [
       "4"
      ]
     },
     "execution_count": 172,
     "metadata": {},
     "output_type": "execute_result"
    }
   ],
   "source": [
    "sValues.shape[0]"
   ]
  },
  {
   "cell_type": "code",
   "execution_count": 173,
   "metadata": {},
   "outputs": [
    {
     "data": {
      "text/html": [
       "<div>\n",
       "<style scoped>\n",
       "    .dataframe tbody tr th:only-of-type {\n",
       "        vertical-align: middle;\n",
       "    }\n",
       "\n",
       "    .dataframe tbody tr th {\n",
       "        vertical-align: top;\n",
       "    }\n",
       "\n",
       "    .dataframe thead th {\n",
       "        text-align: right;\n",
       "    }\n",
       "</style>\n",
       "<table border=\"1\" class=\"dataframe\">\n",
       "  <thead>\n",
       "    <tr style=\"text-align: right;\">\n",
       "      <th></th>\n",
       "      <th>_id</th>\n",
       "      <th>count</th>\n",
       "    </tr>\n",
       "  </thead>\n",
       "  <tbody>\n",
       "    <tr>\n",
       "      <th>3</th>\n",
       "      <td>None</td>\n",
       "      <td>218711983</td>\n",
       "    </tr>\n",
       "    <tr>\n",
       "      <th>0</th>\n",
       "      <td>script12</td>\n",
       "      <td>888</td>\n",
       "    </tr>\n",
       "    <tr>\n",
       "      <th>1</th>\n",
       "      <td>script11</td>\n",
       "      <td>888</td>\n",
       "    </tr>\n",
       "    <tr>\n",
       "      <th>2</th>\n",
       "      <td>script1</td>\n",
       "      <td>872</td>\n",
       "    </tr>\n",
       "  </tbody>\n",
       "</table>\n",
       "</div>"
      ],
      "text/plain": [
       "        _id      count\n",
       "3      None  218711983\n",
       "0  script12        888\n",
       "1  script11        888\n",
       "2   script1        872"
      ]
     },
     "execution_count": 173,
     "metadata": {},
     "output_type": "execute_result"
    }
   ],
   "source": [
    "sValues.head()"
   ]
  },
  {
   "cell_type": "code",
   "execution_count": 5,
   "metadata": {},
   "outputs": [],
   "source": [
    "client = MongoClient()\n",
    "db = client.omocc\n",
    "cursor = db.events.aggregate([{\n",
    "    '$group' : {\n",
    "        '_id': { \n",
    "            '$trim': { \n",
    "                'input': '$d'\n",
    "            }\n",
    "        },\n",
    "        'count': {\n",
    "            '$sum': 1 \n",
    "        }\n",
    "    }\n",
    "}], allowDiskUse=True)\n",
    "dValues = pd.DataFrame(list(cursor))\n",
    "client.close()\n",
    "dValues.sort_values('count', ascending=False, inplace=True)"
   ]
  },
  {
   "cell_type": "code",
   "execution_count": 6,
   "metadata": {},
   "outputs": [
    {
     "data": {
      "text/plain": [
       "107316152"
      ]
     },
     "execution_count": 6,
     "metadata": {},
     "output_type": "execute_result"
    }
   ],
   "source": [
    "dValues.shape[0]"
   ]
  },
  {
   "cell_type": "code",
   "execution_count": 7,
   "metadata": {},
   "outputs": [
    {
     "data": {
      "text/html": [
       "<div>\n",
       "<style scoped>\n",
       "    .dataframe tbody tr th:only-of-type {\n",
       "        vertical-align: middle;\n",
       "    }\n",
       "\n",
       "    .dataframe tbody tr th {\n",
       "        vertical-align: top;\n",
       "    }\n",
       "\n",
       "    .dataframe thead th {\n",
       "        text-align: right;\n",
       "    }\n",
       "</style>\n",
       "<table border=\"1\" class=\"dataframe\">\n",
       "  <thead>\n",
       "    <tr style=\"text-align: right;\">\n",
       "      <th></th>\n",
       "      <th>_id</th>\n",
       "      <th>count</th>\n",
       "    </tr>\n",
       "  </thead>\n",
       "  <tbody>\n",
       "    <tr>\n",
       "      <th>107316151</th>\n",
       "      <td>[unknown]</td>\n",
       "      <td>3155452</td>\n",
       "    </tr>\n",
       "    <tr>\n",
       "      <th>0</th>\n",
       "      <td>None</td>\n",
       "      <td>3198</td>\n",
       "    </tr>\n",
       "    <tr>\n",
       "      <th>68282985</th>\n",
       "      <td>506476800</td>\n",
       "      <td>29</td>\n",
       "    </tr>\n",
       "    <tr>\n",
       "      <th>3621722</th>\n",
       "      <td>155555221</td>\n",
       "      <td>24</td>\n",
       "    </tr>\n",
       "    <tr>\n",
       "      <th>104117084</th>\n",
       "      <td>82333029</td>\n",
       "      <td>10</td>\n",
       "    </tr>\n",
       "  </tbody>\n",
       "</table>\n",
       "</div>"
      ],
      "text/plain": [
       "                 _id    count\n",
       "107316151  [unknown]  3155452\n",
       "0               None     3198\n",
       "68282985   506476800       29\n",
       "3621722    155555221       24\n",
       "104117084   82333029       10"
      ]
     },
     "execution_count": 7,
     "metadata": {},
     "output_type": "execute_result"
    }
   ],
   "source": [
    "dValues.head()"
   ]
  },
  {
   "cell_type": "markdown",
   "metadata": {},
   "source": [
    "# Script for converting the log file into the MonPoly format"
   ]
  },
  {
   "cell_type": "code",
   "execution_count": 17,
   "metadata": {},
   "outputs": [],
   "source": [
    "dbDescriptor = lambda event: 'user=' + event['u'] + ', database=' + event['db'] + ', p=' + event['p'] + ', d=' + event['d']\n",
    "eventDescriptor = {\n",
    "    'insert': dbDescriptor,\n",
    "    'select': dbDescriptor,\n",
    "    'update': dbDescriptor,\n",
    "    'delete': dbDescriptor,\n",
    "    'script_start': lambda event: 'script=' + event['s'],\n",
    "    'script_end': lambda event: 'script=' + event['s'],\n",
    "    'script_md5': lambda event: 'script=' + event['s'] + ', md5=' + event['md5'],\n",
    "    'commit': lambda event: 'url=' + event['url'] + ', revision=' + event['rev'],\n",
    "    'script_svn': lambda event: 'script=' + event['s'] + ', status=' + event['status'] + ', url=' + event['url'] + ', revision1=' + event['rev1'] + ', revision2=' + event['rev2'],\n",
    "}\n",
    "    \n",
    "\n",
    "def buildMonPolyEvent(event):\n",
    "    eventProperties = eventDescriptor[event['type']](event)\n",
    "    return '@' + event['ts'] + ' ' + event['type'] + '(' + eventProperties + ')'"
   ]
  },
  {
   "cell_type": "code",
   "execution_count": 18,
   "metadata": {},
   "outputs": [
    {
     "name": "stdout",
     "output_type": "stream",
     "text": [
      "@1272882926 commit(url=url1, revision=1)\n"
     ]
    }
   ],
   "source": [
    "originalLogFilePath = os.path.join('/', 'Users', 'deeps', 'Downloads', 'ldcc', 'ldcc.csv')\n",
    "monpolyLogFilePath = os.path.join('/', 'Users', 'deeps', 'Downloads', 'ldcc', 'ldcc-monpoly.csv')\n",
    "originalLogFile = open(originalLogFilePath, 'r')\n",
    "monpolyLogFile = open(monpolyLogFilePath, 'w')\n",
    "for line in originalLogFile:\n",
    "    event = parseEvent(line)\n",
    "    monpolyEvent = buildMonPolyEvent(event)\n",
    "    monpolyLogFile.write(monpolyEvent + '\\n')\n",
    "monpolyLogFile.close()\n",
    "originalLogFile.close()"
   ]
  },
  {
   "cell_type": "code",
   "execution_count": null,
   "metadata": {},
   "outputs": [],
   "source": []
  }
 ],
 "metadata": {
  "kernelspec": {
   "display_name": "Python 3",
   "language": "python",
   "name": "python3"
  },
  "language_info": {
   "codemirror_mode": {
    "name": "ipython",
    "version": 3
   },
   "file_extension": ".py",
   "mimetype": "text/x-python",
   "name": "python",
   "nbconvert_exporter": "python",
   "pygments_lexer": "ipython3",
   "version": "3.7.3"
  }
 },
 "nbformat": 4,
 "nbformat_minor": 2
}
