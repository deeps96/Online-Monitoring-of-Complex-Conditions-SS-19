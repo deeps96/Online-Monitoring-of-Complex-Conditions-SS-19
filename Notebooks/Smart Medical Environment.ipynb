{
 "cells": [
  {
   "cell_type": "markdown",
   "metadata": {},
   "source": [
    "# Data Analysis"
   ]
  },
  {
   "cell_type": "code",
   "execution_count": 5,
   "metadata": {},
   "outputs": [],
   "source": [
    "import os\n",
    "import pandas as pd\n",
    "import numpy as np\n",
    "import matplotlib as plt"
   ]
  },
  {
   "cell_type": "code",
   "execution_count": 10,
   "metadata": {},
   "outputs": [],
   "source": [
    "plt.rcParams.update({'font.size': 24})"
   ]
  },
  {
   "cell_type": "code",
   "execution_count": 2,
   "metadata": {},
   "outputs": [],
   "source": [
    "logDirPath = os.path.join('..', 'medical', 'logs', 'monpoly')\n",
    "logFiles = [fileOrDir for fileOrDir in os.listdir(logDirPath) if fileOrDir.endswith(\".log\")]\n",
    "\n",
    "def parseEvent(line):\n",
    "    timestampEvent = line.split(' ')\n",
    "    timestamp, rawEvent = timestampEvent[0][1:], timestampEvent[1][:-2]\n",
    "    bracketIndex = rawEvent.index('(')\n",
    "    eventType, rawEventParameters = rawEvent[:bracketIndex], rawEvent[bracketIndex + 1:]\n",
    "    eventParameterArray = rawEventParameters.split(',')\n",
    "    eventParameters = {'parameter' + str(index): value for index, value in enumerate(eventParameterArray)}\n",
    "    return {\n",
    "        'timestamp': timestamp,\n",
    "        'type': eventType,\n",
    "        **eventParameters\n",
    "    }\n",
    "\n",
    "def parseEventFile(logFilePath):\n",
    "    events = []\n",
    "    logFile = open(logDirPath + '/' + logFilePath, 'r')\n",
    "    for line in logFile:\n",
    "        events.append(parseEvent(line))\n",
    "    logFile.close()\n",
    "    return events\n",
    "\n",
    "def parseEventFiles():\n",
    "    events = []\n",
    "    for logFilePath in logFiles:\n",
    "        events += parseEventFile(logFilePath)\n",
    "    return events"
   ]
  },
  {
   "cell_type": "code",
   "execution_count": 3,
   "metadata": {},
   "outputs": [
    {
     "data": {
      "text/html": [
       "<div>\n",
       "<style scoped>\n",
       "    .dataframe tbody tr th:only-of-type {\n",
       "        vertical-align: middle;\n",
       "    }\n",
       "\n",
       "    .dataframe tbody tr th {\n",
       "        vertical-align: top;\n",
       "    }\n",
       "\n",
       "    .dataframe thead th {\n",
       "        text-align: right;\n",
       "    }\n",
       "</style>\n",
       "<table border=\"1\" class=\"dataframe\">\n",
       "  <thead>\n",
       "    <tr style=\"text-align: right;\">\n",
       "      <th></th>\n",
       "      <th>parameter0</th>\n",
       "      <th>parameter1</th>\n",
       "      <th>timestamp</th>\n",
       "      <th>type</th>\n",
       "    </tr>\n",
       "  </thead>\n",
       "  <tbody>\n",
       "    <tr>\n",
       "      <th>0</th>\n",
       "      <td>1</td>\n",
       "      <td>NaN</td>\n",
       "      <td>0</td>\n",
       "      <td>patient</td>\n",
       "    </tr>\n",
       "    <tr>\n",
       "      <th>1</th>\n",
       "      <td>3</td>\n",
       "      <td>NaN</td>\n",
       "      <td>0</td>\n",
       "      <td>patient</td>\n",
       "    </tr>\n",
       "    <tr>\n",
       "      <th>2</th>\n",
       "      <td>4</td>\n",
       "      <td>NaN</td>\n",
       "      <td>0</td>\n",
       "      <td>patient</td>\n",
       "    </tr>\n",
       "    <tr>\n",
       "      <th>3</th>\n",
       "      <td>5</td>\n",
       "      <td>NaN</td>\n",
       "      <td>0</td>\n",
       "      <td>patient</td>\n",
       "    </tr>\n",
       "    <tr>\n",
       "      <th>4</th>\n",
       "      <td>6</td>\n",
       "      <td>NaN</td>\n",
       "      <td>0</td>\n",
       "      <td>patient</td>\n",
       "    </tr>\n",
       "  </tbody>\n",
       "</table>\n",
       "</div>"
      ],
      "text/plain": [
       "  parameter0 parameter1 timestamp     type\n",
       "0          1        NaN         0  patient\n",
       "1          3        NaN         0  patient\n",
       "2          4        NaN         0  patient\n",
       "3          5        NaN         0  patient\n",
       "4          6        NaN         0  patient"
      ]
     },
     "execution_count": 3,
     "metadata": {},
     "output_type": "execute_result"
    }
   ],
   "source": [
    "events = pd.DataFrame(parseEventFiles())\n",
    "events.head()"
   ]
  },
  {
   "cell_type": "code",
   "execution_count": 4,
   "metadata": {},
   "outputs": [],
   "source": [
    "eventByType = events.groupby('type')"
   ]
  },
  {
   "cell_type": "code",
   "execution_count": 7,
   "metadata": {},
   "outputs": [],
   "source": [
    "def labelBars(plot):\n",
    "    for p in plot.patches:\n",
    "        plot.annotate(\n",
    "            np.round(p.get_height(), decimals=2),\n",
    "            (\n",
    "                p.get_x() + p.get_width() / 2.,\n",
    "                p.get_height()\n",
    "            ),\n",
    "            ha='center',\n",
    "            va='center',\n",
    "            xytext=(0, 10),\n",
    "            textcoords='offset points'\n",
    "     )"
   ]
  },
  {
   "cell_type": "code",
   "execution_count": 11,
   "metadata": {},
   "outputs": [
    {
     "data": {
      "image/png": "[encoded data removed]",
      "text/plain": [
       "<Figure size 1440x720 with 1 Axes>"
      ]
     },
     "metadata": {
      "needs_background": "light"
     },
     "output_type": "display_data"
    }
   ],
   "source": [
    "eventTypeCount = eventByType['type'].agg(['count'])\n",
    "eventTypePlot = eventTypeCount.plot(\n",
    "    kind='bar',\n",
    "    figsize=(20, 10)\n",
    ")\n",
    "eventTypePlot.set(\n",
    "    xlabel='event types',\n",
    "    ylabel='event count',\n",
    "    title='Number of events per type'\n",
    ")\n",
    "labelBars(eventTypePlot)"
   ]
  },
  {
   "cell_type": "code",
   "execution_count": 42,
   "metadata": {},
   "outputs": [
    {
     "name": "stdout",
     "output_type": "stream",
     "text": [
      "action\n",
      "\n",
      "       parameter0  parameter1 timestamp    type\n",
      "count       45060         0.0     45060   45060\n",
      "unique      10010         0.0     35011       1\n",
      "top           452         NaN   5748472  action\n",
      "freq            9         NaN         4   45060\n",
      "\n",
      "action_by\n",
      "\n",
      "       parameter0 parameter1 timestamp       type\n",
      "count       45060      45060     45060      45060\n",
      "unique      10010      10010     35011          1\n",
      "top           452        452   5748472  action_by\n",
      "freq            9          9         4      45060\n",
      "\n",
      "action_type\n",
      "\n",
      "       parameter0   parameter1 timestamp         type\n",
      "count       45060        45060     45060        45060\n",
      "unique      10010            2     35011            1\n",
      "top           452  antibiotics   5748472  action_type\n",
      "freq            9        25260         4        45060\n",
      "\n",
      "dental\n",
      "\n",
      "       parameter0  parameter1 timestamp    type\n",
      "count       25260         0.0     25260   25260\n",
      "unique      10010         0.0     15134       1\n",
      "top            66         NaN   4783141  dental\n",
      "freq            9         NaN         4   25260\n",
      "\n",
      "dental_on\n",
      "\n",
      "       parameter0 parameter1 timestamp       type\n",
      "count       25260      25260     25260      25260\n",
      "unique      10010      10010     15134          1\n",
      "top            66        464   4783141  dental_on\n",
      "freq            9          8         4      25260\n",
      "\n",
      "patient\n",
      "\n",
      "       parameter0  parameter1 timestamp     type\n",
      "count       45060         0.0     45060    45060\n",
      "unique      10010         0.0      8899        1\n",
      "top           998         NaN         0  patient\n",
      "freq            9         NaN     22469    45060\n",
      "\n",
      "patient_id\n",
      "\n",
      "       parameter0 parameter1 timestamp        type\n",
      "count       45060      45060     45060       45060\n",
      "unique      10010          3      8899           1\n",
      "top           998        Bob         0  patient_id\n",
      "freq            9      24090     22469       45060\n",
      "\n",
      "pump\n",
      "\n",
      "       parameter0  parameter1 timestamp   type\n",
      "count       45060         0.0     45060  45060\n",
      "unique      10010         0.0      8867      1\n",
      "top           285         NaN         0   pump\n",
      "freq            9         NaN     22652  45060\n",
      "\n",
      "pump_on\n",
      "\n",
      "       parameter0 parameter1 timestamp     type\n",
      "count       45060      45060     45060    45060\n",
      "unique      10010      10010      8867        1\n",
      "top           285        285         0  pump_on\n",
      "freq            9          9     22652    45060\n",
      "\n"
     ]
    }
   ],
   "source": [
    "for eventType in eventByType.groups.keys():\n",
    "    print(eventType)\n",
    "    print()\n",
    "    print(eventByType.get_group(eventType).describe())\n",
    "    print()"
   ]
  },
  {
   "cell_type": "code",
   "execution_count": 57,
   "metadata": {},
   "outputs": [
    {
     "name": "stdout",
     "output_type": "stream",
     "text": [
      "Unique parameter1 for action_type\n"
     ]
    },
    {
     "data": {
      "text/plain": [
       "['noise', 'antibiotics']"
      ]
     },
     "execution_count": 57,
     "metadata": {},
     "output_type": "execute_result"
    }
   ],
   "source": [
    "print('Unique parameter1 for action_type')\n",
    "list(eventByType.get_group('action_type')['parameter1'].unique())"
   ]
  },
  {
   "cell_type": "code",
   "execution_count": 58,
   "metadata": {},
   "outputs": [
    {
     "name": "stdout",
     "output_type": "stream",
     "text": [
      "Unique parameter1 for patient_id\n"
     ]
    },
    {
     "data": {
      "text/plain": [
       "['Alice', 'Bob', 'Charlie']"
      ]
     },
     "execution_count": 58,
     "metadata": {},
     "output_type": "execute_result"
    }
   ],
   "source": [
    "print('Unique parameter1 for patient_id')\n",
    "list(eventByType.get_group('patient_id')['parameter1'].unique())"
   ]
  }
 ],
 "metadata": {
  "kernelspec": {
   "display_name": "Python 3",
   "language": "python",
   "name": "python3"
  },
  "language_info": {
   "codemirror_mode": {
    "name": "ipython",
    "version": 3
   },
   "file_extension": ".py",
   "mimetype": "text/x-python",
   "name": "python",
   "nbconvert_exporter": "python",
   "pygments_lexer": "ipython3",
   "version": "3.7.3"
  }
 },
 "nbformat": 4,
 "nbformat_minor": 2
}
